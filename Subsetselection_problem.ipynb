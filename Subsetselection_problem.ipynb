{
  "nbformat": 4,
  "nbformat_minor": 0,
  "metadata": {
    "colab": {
      "provenance": [],
      "authorship_tag": "ABX9TyPqbB1YvyWQbm7hlrUKx0eN",
      "include_colab_link": true
    },
    "kernelspec": {
      "name": "python3",
      "display_name": "Python 3"
    },
    "language_info": {
      "name": "python"
    }
  },
  "cells": [
    {
      "cell_type": "markdown",
      "metadata": {
        "id": "view-in-github",
        "colab_type": "text"
      },
      "source": [
        "<a href=\"https://colab.research.google.com/github/CodeCrafter-101/Subset-Selection-Problem/blob/main/Subsetselection_problem.ipynb\" target=\"_parent\"><img src=\"https://colab.research.google.com/assets/colab-badge.svg\" alt=\"Open In Colab\"/></a>"
      ]
    },
    {
      "cell_type": "markdown",
      "source": [
        "Subset Selection Problem\n",
        "\n",
        "Find all the subsets from a set of numbers whose sum is zero.\n",
        "\n",
        "Constraint: Subset size must be 5\n",
        "Set={-12, -3, -6, 7, 2, -2, 6, 3, 9, -7, -5, -8, 1, 11, -9, -4}"
      ],
      "metadata": {
        "id": "FxcYGjMiB4PZ"
      }
    },
    {
      "cell_type": "markdown",
      "source": [
        "1. Library inclusion"
      ],
      "metadata": {
        "id": "CIdaec87COhD"
      }
    },
    {
      "cell_type": "code",
      "source": [
        "import random as r"
      ],
      "metadata": {
        "id": "XlQImSx-CZO3"
      },
      "execution_count": 1,
      "outputs": []
    },
    {
      "cell_type": "markdown",
      "source": [
        "2. Parameter Setting"
      ],
      "metadata": {
        "id": "mITwqzZPCgHT"
      }
    },
    {
      "cell_type": "code",
      "source": [
        "Set=[-12, -3, -6, 7, 2, -2, 6, 3, 9, -7, -5, -8, 1, 11, -9, -4]\n",
        "set_size=5\n",
        "res=set()\n",
        "iterations=1000"
      ],
      "metadata": {
        "id": "UKIDZbW6Cidb"
      },
      "execution_count": 2,
      "outputs": []
    },
    {
      "cell_type": "markdown",
      "source": [
        "3. Start Program"
      ],
      "metadata": {
        "id": "qHDLXa24DFzL"
      }
    },
    {
      "cell_type": "code",
      "source": [
        "for _ in range(iterations):\n",
        "  set_size=r.randint(3,6)\n",
        "  chr=r.sample(Set,set_size)\n",
        "  if sum(chr)==0:\n",
        "    res.add(tuple(sorted(chr)))"
      ],
      "metadata": {
        "id": "WhI1vIl_DLOe"
      },
      "execution_count": 3,
      "outputs": []
    },
    {
      "cell_type": "markdown",
      "source": [
        "4. Print the sets and total count"
      ],
      "metadata": {
        "id": "YPJFEFfHDM0I"
      }
    },
    {
      "cell_type": "code",
      "source": [
        "for r in res:\n",
        "  print(r,'\\n')"
      ],
      "metadata": {
        "colab": {
          "base_uri": "https://localhost:8080/"
        },
        "id": "KN2Wce2TDVgm",
        "outputId": "e610bd09-9346-4616-9a9d-22b12c10583a"
      },
      "execution_count": 4,
      "outputs": [
        {
          "output_type": "stream",
          "name": "stdout",
          "text": [
            "(-6, -5, 1, 3, 7) \n",
            "\n",
            "(-7, -3, -2, 2, 3, 7) \n",
            "\n",
            "(-8, -6, -2, 1, 6, 9) \n",
            "\n",
            "(-9, -3, -2, 1, 6, 7) \n",
            "\n",
            "(-7, -4, 1, 3, 7) \n",
            "\n",
            "(-5, -3, 2, 6) \n",
            "\n",
            "(-9, -5, 2, 3, 9) \n",
            "\n",
            "(-12, -6, -2, 3, 6, 11) \n",
            "\n",
            "(-7, -5, -2, 3, 11) \n",
            "\n",
            "(-12, 1, 11) \n",
            "\n",
            "(-12, 2, 3, 7) \n",
            "\n",
            "(-8, -3, -2, 6, 7) \n",
            "\n",
            "(-9, -8, -5, 2, 9, 11) \n",
            "\n",
            "(-9, -3, 1, 11) \n",
            "\n",
            "(-8, -2, 1, 9) \n",
            "\n",
            "(-8, 1, 7) \n",
            "\n",
            "(-8, -6, -3, 6, 11) \n",
            "\n",
            "(-7, -4, 2, 9) \n",
            "\n",
            "(-6, -5, 11) \n",
            "\n",
            "(-9, -7, 1, 6, 9) \n",
            "\n",
            "(-12, -5, -3, 9, 11) \n",
            "\n",
            "(-7, -6, -4, -3, 9, 11) \n",
            "\n",
            "(-9, -8, 6, 11) \n",
            "\n",
            "(-4, -3, 7) \n",
            "\n",
            "(-9, 3, 6) \n",
            "\n",
            "(-9, 1, 2, 6) \n",
            "\n"
          ]
        }
      ]
    },
    {
      "cell_type": "markdown",
      "source": [
        "5. Complete Program"
      ],
      "metadata": {
        "id": "1mieydbHDiPT"
      }
    },
    {
      "cell_type": "code",
      "source": [
        "import random as r\n",
        "Set=[-12, -3, -6, 7, 2, -2, 6, 3, 9, -7, -5, -8, 1, 11, -9, -4]\n",
        "res=set()\n",
        "iterations=1000\n",
        "for _ in range(iterations):\n",
        "  set_size=r.randint(3,6)\n",
        "  chr=r.sample(Set,set_size)\n",
        "  if sum(chr)==0:\n",
        "    res.add(tuple(sorted(chr)))\n",
        "for r in res:\n",
        "  print(r,'\\n')"
      ],
      "metadata": {
        "colab": {
          "base_uri": "https://localhost:8080/"
        },
        "id": "ilcUNs-UDj-L",
        "outputId": "37641840-97c1-47a7-fcd5-aba20e400454"
      },
      "execution_count": 5,
      "outputs": [
        {
          "output_type": "stream",
          "name": "stdout",
          "text": [
            "(-12, -5, 6, 11) \n",
            "\n",
            "(-8, -5, 6, 7) \n",
            "\n",
            "(-9, -3, 3, 9) \n",
            "\n",
            "(-6, -3, -2, 11) \n",
            "\n",
            "(-4, 1, 3) \n",
            "\n",
            "(-8, -7, -6, 3, 7, 11) \n",
            "\n",
            "(-12, 2, 3, 7) \n",
            "\n",
            "(-12, -7, 2, 6, 11) \n",
            "\n",
            "(-8, 2, 6) \n",
            "\n",
            "(-5, -3, -2, 1, 9) \n",
            "\n",
            "(-9, -4, -3, 1, 6, 9) \n",
            "\n",
            "(-8, -5, -3, 7, 9) \n",
            "\n",
            "(-6, -5, 11) \n",
            "\n",
            "(-8, -5, -4, 1, 7, 9) \n",
            "\n",
            "(-8, -5, 2, 11) \n",
            "\n",
            "(-9, -4, -3, -2, 7, 11) \n",
            "\n",
            "(-8, -4, 3, 9) \n",
            "\n",
            "(-8, -6, -4, -2, 9, 11) \n",
            "\n",
            "(-12, -8, 2, 7, 11) \n",
            "\n",
            "(-8, -3, 11) \n",
            "\n",
            "(-7, -5, -3, 6, 9) \n",
            "\n",
            "(-8, -7, 2, 6, 7) \n",
            "\n"
          ]
        }
      ]
    }
  ]
}